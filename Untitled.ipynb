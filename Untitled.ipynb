{
 "cells": [
  {
   "cell_type": "markdown",
   "id": "9d2c73f1-9ae9-49e5-b5a2-3f4ce6fcdd20",
   "metadata": {},
   "source": [
    "My Jupyter Notebook on IBM Watson Studio"
   ]
  },
  {
   "cell_type": "markdown",
   "id": "27d2f803-f157-4444-9bf8-52b015e35304",
   "metadata": {},
   "source": [
    "### Ngoc Nguyen\n",
    "Math Teacher"
   ]
  },
  {
   "cell_type": "markdown",
   "id": "15350801-a912-4ad4-b0e1-4fc6ed39c2fc",
   "metadata": {},
   "source": [
    "*I am interested in data science because I want to be able to analyze my student data more effectively. I want to ultilize my student data to improve student performance and growth.*"
   ]
  },
  {
   "cell_type": "markdown",
   "id": "cf455662-0923-4cfe-a680-bf079769a62f",
   "metadata": {},
   "source": [
    "My code will execute the solution to \"10+3-6/2\""
   ]
  },
  {
   "cell_type": "code",
   "execution_count": 9,
   "id": "9cd5d95a-ba0b-4f52-b2bb-088d90b6e7e6",
   "metadata": {},
   "outputs": [
    {
     "data": {
      "text/plain": [
       "10.0"
      ]
     },
     "execution_count": 9,
     "metadata": {},
     "output_type": "execute_result"
    }
   ],
   "source": [
    "10+3-6/2"
   ]
  },
  {
   "cell_type": "markdown",
   "id": "aab46f7d-c5a2-4ea2-a21e-26da010189b3",
   "metadata": {},
   "source": [
    "|College/University|Website|\n",
    "|:------:|:------:|\n",
    "|University of Pennsylvania|[UPenn](https://www.upenn.edu/)|\n",
    "|Drexel University|[Drexel](https://drexel.edu/)|\n",
    "|Princeton University|[Princeton](https://www.princeton.edu/)|\n",
    "\n",
    "---\n",
    "\n",
    "Other Colleges/Universities:\n",
    "* Duke University\n",
    "* Georgetown University\n",
    "* Boston College\n",
    "\n"
   ]
  },
  {
   "cell_type": "code",
   "execution_count": null,
   "id": "ef0f55a0-1fb5-4b65-a983-4faeee10c628",
   "metadata": {},
   "outputs": [],
   "source": []
  }
 ],
 "metadata": {
  "kernelspec": {
   "display_name": "Python",
   "language": "python",
   "name": "conda-env-python-py"
  },
  "language_info": {
   "codemirror_mode": {
    "name": "ipython",
    "version": 3
   },
   "file_extension": ".py",
   "mimetype": "text/x-python",
   "name": "python",
   "nbconvert_exporter": "python",
   "pygments_lexer": "ipython3",
   "version": "3.7.12"
  }
 },
 "nbformat": 4,
 "nbformat_minor": 5
}
